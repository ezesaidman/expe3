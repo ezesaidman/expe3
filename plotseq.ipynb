{
 "metadata": {
  "language_info": {
   "codemirror_mode": {
    "name": "ipython",
    "version": 3
   },
   "file_extension": ".py",
   "mimetype": "text/x-python",
   "name": "python",
   "nbconvert_exporter": "python",
   "pygments_lexer": "ipython3",
   "version": "3.8.5"
  },
  "orig_nbformat": 2,
  "kernelspec": {
   "name": "python3",
   "display_name": "Python 3",
   "language": "python"
  }
 },
 "nbformat": 4,
 "nbformat_minor": 2,
 "cells": [
  {
   "cell_type": "code",
   "execution_count": 1,
   "metadata": {},
   "outputs": [],
   "source": [
    "import matplotlib.pyplot as plt\n",
    "import numpy as np\n",
    "from brukerapi.dataset import Dataset as ds\n",
    "import matplotlib.animation as animation\n",
    "%matplotlib tk"
   ]
  },
  {
   "cell_type": "code",
   "execution_count": 5,
   "metadata": {},
   "outputs": [
    {
     "output_type": "execute_result",
     "data": {
      "text/plain": [
       "<matplotlib.image.AxesImage at 0x7f5b92cad3d0>"
      ]
     },
     "metadata": {},
     "execution_count": 5
    }
   ],
   "source": [
    "# 2dseq\n",
    "\n",
    "dataset = ds(\"../data/213-222/216/pdata/1/2dseq\")\n",
    "plt.imshow(dataset.data[:,:,0,0])"
   ]
  },
  {
   "cell_type": "code",
   "execution_count": 83,
   "metadata": {},
   "outputs": [],
   "source": [
    "fig, ax = plt.subplots()\n",
    "\n",
    "vmax = np.amax(data[:,:,0,:])\n",
    "vmin = 0\n",
    "\n",
    "ax.imshow(data[:,:,0,0], cmap=\"gray\", vmax=vmax, vmin=vmin)\n",
    "\n",
    "def init():\n",
    "    ax.imshow(data[:,:,0,0], cmap=\"gray\", vmax=vmax, vmin=vmin)\n",
    "\n",
    "def animate(i):\n",
    "    ax.imshow(data[:,:,0,i], cmap=\"gray\", vmax=vmax, vmin=vmin)\n",
    "\n",
    "anim = animation.FuncAnimation(fig, animate, init_func=init, frames=len(data[:,:,0,:]))"
   ]
  },
  {
   "cell_type": "code",
   "execution_count": 3,
   "metadata": {},
   "outputs": [
    {
     "output_type": "execute_result",
     "data": {
      "text/plain": [
       "<matplotlib.image.AxesImage at 0x7f924859dac0>"
      ]
     },
     "metadata": {},
     "execution_count": 3
    }
   ],
   "source": [
    "plt.imshow(data[:,:,0,1])"
   ]
  },
  {
   "cell_type": "code",
   "execution_count": null,
   "metadata": {},
   "outputs": [],
   "source": []
  }
 ]
}