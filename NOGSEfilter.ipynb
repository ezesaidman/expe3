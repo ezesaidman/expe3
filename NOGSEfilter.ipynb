{
 "metadata": {
  "language_info": {
   "codemirror_mode": {
    "name": "ipython",
    "version": 3
   },
   "file_extension": ".py",
   "mimetype": "text/x-python",
   "name": "python",
   "nbconvert_exporter": "python",
   "pygments_lexer": "ipython3",
   "version": "3.8.5"
  },
  "orig_nbformat": 2,
  "kernelspec": {
   "name": "python3",
   "display_name": "Python 3.8.5 64-bit ('usr')",
   "metadata": {
    "interpreter": {
     "hash": "df0893f56f349688326838aaeea0de204df53a132722cbd565e54b24a8fec5f6"
    }
   }
  }
 },
 "nbformat": 4,
 "nbformat_minor": 2,
 "cells": [
  {
   "cell_type": "code",
   "execution_count": 119,
   "metadata": {},
   "outputs": [],
   "source": [
    "from brukerapi.dataset import Dataset as ds\n",
    "import numpy as np\n",
    "import matplotlib.pyplot as plt\n",
    "import glob\n",
    "from matplotlib import animation\n",
    "from matplotlib import cm"
   ]
  },
  {
   "cell_type": "code",
   "execution_count": 90,
   "metadata": {},
   "outputs": [],
   "source": [
    "folders = [\"440-459\", \"461-480\"]\n",
    "\n",
    "rois = np.genfromtxt(\"ROIset.txt\", delimiter=\",\", dtype=np.int)\n",
    "f1roi, f2roi, wroi = rois\n",
    "\n",
    "hahn_paths = sorted(glob.glob(\"../data/\" + folders[0] + \"/*/pdata/1/2dseq\"))\n",
    "cpmg_paths = sorted(glob.glob(\"../data/\" + folders[1] + \"/*/pdata/1/2dseq\"))\n",
    "\n",
    "method_paths_paths = sorted(glob.glob(\"../data/\" + folders[0] + \"/*/method\"))\n",
    "method_paths_paths = sorted(glob.glob(\"../data/\" + folders[1] + \"/*/method\"))\n",
    "\n",
    "filter = []\n",
    "\n",
    "f1hahn_val = []\n",
    "f2hahn_val = []\n",
    "whahn_val = []\n",
    "\n",
    "f1cpmg_val = []\n",
    "f2cpmg_val = []\n",
    "wcpmg_val = []\n",
    "\n",
    "for hahn_path, cpmg_path in zip(hahn_paths, cpmg_paths):\n",
    "\n",
    "    datahahn = ds(hahn_path)\n",
    "    datacpmg = ds(cpmg_path)\n",
    "\n",
    "    datahahn = np.array(datahahn.data)\n",
    "    datacpmg = np.array(datacpmg.data)\n",
    "\n",
    "    imhahn = datahahn[:,:,0,1]\n",
    "    imcpmg = datacpmg[:,:,0,1]\n",
    "\n",
    "    f1hahn_val.append(np.mean(datahahn[f1roi[1]:f1roi[1]+f1roi[3],f1roi[0]:f1roi[0]+f1roi[2],0,1]))\n",
    "    f2hahn_val.append(np.mean(datahahn[f2roi[1]:f2roi[1]+f2roi[3],f2roi[0]:f2roi[0]+f2roi[2],0,1]))\n",
    "    whahn_val.append(np.mean(datahahn[wroi[1]:wroi[1]+wroi[3],wroi[0]:wroi[0]+wroi[2],0,1]))\n",
    "\n",
    "    f1cpmg_val.append(np.mean(datacpmg[f1roi[1]:f1roi[1]+f1roi[3],f1roi[0]:f1roi[0]+f1roi[2],0,1]))\n",
    "    f2cpmg_val.append(np.mean(datacpmg[f2roi[1]:f2roi[1]+f2roi[3],f2roi[0]:f2roi[0]+f2roi[2],0,1]))\n",
    "    wcpmg_val.append(np.mean(datacpmg[wroi[1]:wroi[1]+wroi[3],wroi[0]:wroi[0]+wroi[2],0,1]))\n",
    "\n",
    "    filter.append(imcpmg-imhahn)"
   ]
  },
  {
   "cell_type": "code",
   "execution_count": 44,
   "metadata": {},
   "outputs": [],
   "source": [
    "data = ds(\"../data/461-480/470/pdata/1/2dseq\").data"
   ]
  },
  {
   "cell_type": "code",
   "execution_count": 116,
   "metadata": {},
   "outputs": [],
   "source": [
    "# dejemos solo las fibras, sin el agua, para ver contrastes\n",
    "\n",
    "f1filtered = []\n",
    "f2filtered = []\n",
    "\n",
    "for im in filter:\n",
    "    aux = np.array(im)\n",
    "    for i in range(len(im)):\n",
    "        for j in range(len(im[0])):\n",
    "            if (j-58)**2 + (i-102)**2 > 28**2:\n",
    "                aux[i][j]=-1\n",
    "    f1filtered.append(np.array(aux)[72:132,28:88])\n",
    "\n",
    "    aux = np.array(im)\n",
    "    for i in range(len(im)):\n",
    "        for j in range(len(im[0])):\n",
    "            if (j-72)**2 + (i-43)**2 > 9**2:\n",
    "                aux[i][j]=-1\n",
    "    f2filtered.append(aux)"
   ]
  },
  {
   "cell_type": "code",
   "execution_count": 124,
   "metadata": {},
   "outputs": [],
   "source": [
    "%matplotlib tk\n",
    "\n",
    "fig, ax = plt.subplots()\n",
    "\n",
    "cmap = cm.jet\n",
    "cmap.set_under(\"w\")\n",
    "\n",
    "vmax = np.amax(f1filtered)\n",
    "vmin = 0\n",
    "cmap = \"jet\"\n",
    "\n",
    "ax.imshow(f1filtered[0], cmap=cmap, vmin=0)\n",
    "\n",
    "def init():\n",
    "    ax.imshow(f1filtered[0], cmap=cmap, vmin=0)\n",
    "    ax.set_title(\"G = 5 $\\\\frac{mT}{m}\")\n",
    "\n",
    "def animate(i):\n",
    "    ax.imshow(f1filtered[i], cmap=cmap, vmin=0)\n",
    "    ax.set_title(\"G = \" + str(i*795/len(filter)) + \" $\\\\frac{mT}{m}$\")\n",
    "\n",
    "anim = animation.FuncAnimation(fig, animate, init_func=init, frames=len(filter))\n",
    "\n",
    "Writer = animation.writers['ffmpeg']\n",
    "writer = Writer(fps=15, metadata=dict(artist='Me'), bitrate=1800)\n",
    "\n",
    "anim.save('f1_filter.mp4', writer=writer)"
   ]
  },
  {
   "cell_type": "code",
   "execution_count": 78,
   "metadata": {},
   "outputs": [
    {
     "output_type": "error",
     "ename": "ValueError",
     "evalue": "too many values to unpack (expected 2)",
     "traceback": [
      "\u001b[0;31m---------------------------------------------------------------------------\u001b[0m",
      "\u001b[0;31mValueError\u001b[0m                                Traceback (most recent call last)",
      "\u001b[0;32m<ipython-input-78-b983287b0387>\u001b[0m in \u001b[0;36m<module>\u001b[0;34m\u001b[0m\n\u001b[0;32m----> 1\u001b[0;31m \u001b[0;32mfor\u001b[0m \u001b[0mi\u001b[0m\u001b[0;34m,\u001b[0m\u001b[0mj\u001b[0m \u001b[0;32min\u001b[0m \u001b[0mfilter\u001b[0m\u001b[0;34m[\u001b[0m\u001b[0;36m0\u001b[0m\u001b[0;34m]\u001b[0m\u001b[0;34m:\u001b[0m\u001b[0;34m\u001b[0m\u001b[0;34m\u001b[0m\u001b[0m\n\u001b[0m\u001b[1;32m      2\u001b[0m     \u001b[0mprint\u001b[0m\u001b[0;34m(\u001b[0m\u001b[0mi\u001b[0m\u001b[0;34m,\u001b[0m\u001b[0mj\u001b[0m\u001b[0;34m)\u001b[0m\u001b[0;34m\u001b[0m\u001b[0;34m\u001b[0m\u001b[0m\n",
      "\u001b[0;31mValueError\u001b[0m: too many values to unpack (expected 2)"
     ]
    }
   ],
   "source": [
    "for i,j in filter[0]:\n",
    "    print(i,j)"
   ]
  },
  {
   "cell_type": "code",
   "execution_count": null,
   "metadata": {},
   "outputs": [],
   "source": []
  }
 ]
}